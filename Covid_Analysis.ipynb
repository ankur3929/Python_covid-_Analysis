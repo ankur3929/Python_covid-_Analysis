{
 "cells": [
  {
   "cell_type": "markdown",
   "id": "d228fe8b",
   "metadata": {},
   "source": [
    "# COVID ANALYSIS"
   ]
  },
  {
   "cell_type": "code",
   "execution_count": 1,
   "id": "39b2ba93",
   "metadata": {},
   "outputs": [],
   "source": [
    "import numpy as np\n",
    "import pandas as pd\n",
    "import seaborn as sns\n",
    "import matplotlib.pyplot as plt \n",
    "%matplotlib inline\n",
    "import os"
   ]
  },
  {
   "cell_type": "markdown",
   "id": "220cb77a",
   "metadata": {},
   "source": [
    "# Importing Dataset and Cleaning"
   ]
  },
  {
   "cell_type": "code",
   "execution_count": 2,
   "id": "18915bac",
   "metadata": {},
   "outputs": [],
   "source": [
    "df=pd.read_csv('COVID-19 Coronavirus.csv',encoding= 'unicode_escape')"
   ]
  },
  {
   "cell_type": "code",
   "execution_count": 3,
   "id": "51888900",
   "metadata": {},
   "outputs": [
    {
     "data": {
      "text/html": [
       "<div>\n",
       "<style scoped>\n",
       "    .dataframe tbody tr th:only-of-type {\n",
       "        vertical-align: middle;\n",
       "    }\n",
       "\n",
       "    .dataframe tbody tr th {\n",
       "        vertical-align: top;\n",
       "    }\n",
       "\n",
       "    .dataframe thead th {\n",
       "        text-align: right;\n",
       "    }\n",
       "</style>\n",
       "<table border=\"1\" class=\"dataframe\">\n",
       "  <thead>\n",
       "    <tr style=\"text-align: right;\">\n",
       "      <th></th>\n",
       "      <th>Country</th>\n",
       "      <th>Other names</th>\n",
       "      <th>ISO 3166-1 alpha-3 CODE</th>\n",
       "      <th>Population</th>\n",
       "      <th>Continent</th>\n",
       "      <th>Total Cases</th>\n",
       "      <th>Total Deaths</th>\n",
       "      <th>TotÂ Cases//1M pop</th>\n",
       "      <th>TotÂ Deaths/1M pop</th>\n",
       "      <th>Death percentage</th>\n",
       "    </tr>\n",
       "  </thead>\n",
       "  <tbody>\n",
       "    <tr>\n",
       "      <th>0</th>\n",
       "      <td>Afghanistan</td>\n",
       "      <td>Afghanistan</td>\n",
       "      <td>AFG</td>\n",
       "      <td>40462186</td>\n",
       "      <td>Asia</td>\n",
       "      <td>177827</td>\n",
       "      <td>7671</td>\n",
       "      <td>4395</td>\n",
       "      <td>190</td>\n",
       "      <td>4.313743</td>\n",
       "    </tr>\n",
       "    <tr>\n",
       "      <th>1</th>\n",
       "      <td>Albania</td>\n",
       "      <td>Albania</td>\n",
       "      <td>ALB</td>\n",
       "      <td>2872296</td>\n",
       "      <td>Europe</td>\n",
       "      <td>273870</td>\n",
       "      <td>3492</td>\n",
       "      <td>95349</td>\n",
       "      <td>1216</td>\n",
       "      <td>1.275058</td>\n",
       "    </tr>\n",
       "    <tr>\n",
       "      <th>2</th>\n",
       "      <td>Algeria</td>\n",
       "      <td>Algeria</td>\n",
       "      <td>DZA</td>\n",
       "      <td>45236699</td>\n",
       "      <td>Africa</td>\n",
       "      <td>265691</td>\n",
       "      <td>6874</td>\n",
       "      <td>5873</td>\n",
       "      <td>152</td>\n",
       "      <td>2.587216</td>\n",
       "    </tr>\n",
       "    <tr>\n",
       "      <th>3</th>\n",
       "      <td>Andorra</td>\n",
       "      <td>Andorra</td>\n",
       "      <td>AND</td>\n",
       "      <td>77481</td>\n",
       "      <td>Europe</td>\n",
       "      <td>40024</td>\n",
       "      <td>153</td>\n",
       "      <td>516565</td>\n",
       "      <td>1975</td>\n",
       "      <td>0.382271</td>\n",
       "    </tr>\n",
       "    <tr>\n",
       "      <th>4</th>\n",
       "      <td>Angola</td>\n",
       "      <td>Angola</td>\n",
       "      <td>AGO</td>\n",
       "      <td>34654212</td>\n",
       "      <td>Africa</td>\n",
       "      <td>99194</td>\n",
       "      <td>1900</td>\n",
       "      <td>2862</td>\n",
       "      <td>55</td>\n",
       "      <td>1.915438</td>\n",
       "    </tr>\n",
       "  </tbody>\n",
       "</table>\n",
       "</div>"
      ],
      "text/plain": [
       "       Country  Other names ISO 3166-1 alpha-3 CODE  Population Continent  \\\n",
       "0  Afghanistan  Afghanistan                     AFG    40462186      Asia   \n",
       "1      Albania      Albania                     ALB     2872296    Europe   \n",
       "2      Algeria      Algeria                     DZA    45236699    Africa   \n",
       "3      Andorra      Andorra                     AND       77481    Europe   \n",
       "4       Angola       Angola                     AGO    34654212    Africa   \n",
       "\n",
       "   Total Cases  Total Deaths  TotÂ Cases//1M pop  TotÂ Deaths/1M pop  \\\n",
       "0       177827          7671                4395                 190   \n",
       "1       273870          3492               95349                1216   \n",
       "2       265691          6874                5873                 152   \n",
       "3        40024           153              516565                1975   \n",
       "4        99194          1900                2862                  55   \n",
       "\n",
       "   Death percentage  \n",
       "0          4.313743  \n",
       "1          1.275058  \n",
       "2          2.587216  \n",
       "3          0.382271  \n",
       "4          1.915438  "
      ]
     },
     "execution_count": 3,
     "metadata": {},
     "output_type": "execute_result"
    }
   ],
   "source": [
    "df.head()"
   ]
  },
  {
   "cell_type": "code",
   "execution_count": 4,
   "id": "ef6c022f",
   "metadata": {},
   "outputs": [],
   "source": [
    "# Changing column name\n",
    "df.rename(columns={'TotÂ Cases//1M pop':'Total Cases//1M population'},inplace=True)\n",
    "df.rename(columns={'TotÂ Deaths/1M pop':'Total Deaths/1M population'},inplace=True)\n"
   ]
  },
  {
   "cell_type": "code",
   "execution_count": 5,
   "id": "8b67ff5d",
   "metadata": {},
   "outputs": [
    {
     "data": {
      "text/html": [
       "<div>\n",
       "<style scoped>\n",
       "    .dataframe tbody tr th:only-of-type {\n",
       "        vertical-align: middle;\n",
       "    }\n",
       "\n",
       "    .dataframe tbody tr th {\n",
       "        vertical-align: top;\n",
       "    }\n",
       "\n",
       "    .dataframe thead th {\n",
       "        text-align: right;\n",
       "    }\n",
       "</style>\n",
       "<table border=\"1\" class=\"dataframe\">\n",
       "  <thead>\n",
       "    <tr style=\"text-align: right;\">\n",
       "      <th></th>\n",
       "      <th>Country</th>\n",
       "      <th>Other names</th>\n",
       "      <th>ISO 3166-1 alpha-3 CODE</th>\n",
       "      <th>Population</th>\n",
       "      <th>Continent</th>\n",
       "      <th>Total Cases</th>\n",
       "      <th>Total Deaths</th>\n",
       "      <th>Total Cases//1M population</th>\n",
       "      <th>Total Deaths/1M population</th>\n",
       "      <th>Death percentage</th>\n",
       "    </tr>\n",
       "  </thead>\n",
       "  <tbody>\n",
       "    <tr>\n",
       "      <th>0</th>\n",
       "      <td>Afghanistan</td>\n",
       "      <td>Afghanistan</td>\n",
       "      <td>AFG</td>\n",
       "      <td>40462186</td>\n",
       "      <td>Asia</td>\n",
       "      <td>177827</td>\n",
       "      <td>7671</td>\n",
       "      <td>4395</td>\n",
       "      <td>190</td>\n",
       "      <td>4.313743</td>\n",
       "    </tr>\n",
       "    <tr>\n",
       "      <th>1</th>\n",
       "      <td>Albania</td>\n",
       "      <td>Albania</td>\n",
       "      <td>ALB</td>\n",
       "      <td>2872296</td>\n",
       "      <td>Europe</td>\n",
       "      <td>273870</td>\n",
       "      <td>3492</td>\n",
       "      <td>95349</td>\n",
       "      <td>1216</td>\n",
       "      <td>1.275058</td>\n",
       "    </tr>\n",
       "    <tr>\n",
       "      <th>2</th>\n",
       "      <td>Algeria</td>\n",
       "      <td>Algeria</td>\n",
       "      <td>DZA</td>\n",
       "      <td>45236699</td>\n",
       "      <td>Africa</td>\n",
       "      <td>265691</td>\n",
       "      <td>6874</td>\n",
       "      <td>5873</td>\n",
       "      <td>152</td>\n",
       "      <td>2.587216</td>\n",
       "    </tr>\n",
       "    <tr>\n",
       "      <th>3</th>\n",
       "      <td>Andorra</td>\n",
       "      <td>Andorra</td>\n",
       "      <td>AND</td>\n",
       "      <td>77481</td>\n",
       "      <td>Europe</td>\n",
       "      <td>40024</td>\n",
       "      <td>153</td>\n",
       "      <td>516565</td>\n",
       "      <td>1975</td>\n",
       "      <td>0.382271</td>\n",
       "    </tr>\n",
       "    <tr>\n",
       "      <th>4</th>\n",
       "      <td>Angola</td>\n",
       "      <td>Angola</td>\n",
       "      <td>AGO</td>\n",
       "      <td>34654212</td>\n",
       "      <td>Africa</td>\n",
       "      <td>99194</td>\n",
       "      <td>1900</td>\n",
       "      <td>2862</td>\n",
       "      <td>55</td>\n",
       "      <td>1.915438</td>\n",
       "    </tr>\n",
       "  </tbody>\n",
       "</table>\n",
       "</div>"
      ],
      "text/plain": [
       "       Country  Other names ISO 3166-1 alpha-3 CODE  Population Continent  \\\n",
       "0  Afghanistan  Afghanistan                     AFG    40462186      Asia   \n",
       "1      Albania      Albania                     ALB     2872296    Europe   \n",
       "2      Algeria      Algeria                     DZA    45236699    Africa   \n",
       "3      Andorra      Andorra                     AND       77481    Europe   \n",
       "4       Angola       Angola                     AGO    34654212    Africa   \n",
       "\n",
       "   Total Cases  Total Deaths  Total Cases//1M population  \\\n",
       "0       177827          7671                        4395   \n",
       "1       273870          3492                       95349   \n",
       "2       265691          6874                        5873   \n",
       "3        40024           153                      516565   \n",
       "4        99194          1900                        2862   \n",
       "\n",
       "   Total Deaths/1M population  Death percentage  \n",
       "0                         190          4.313743  \n",
       "1                        1216          1.275058  \n",
       "2                         152          2.587216  \n",
       "3                        1975          0.382271  \n",
       "4                          55          1.915438  "
      ]
     },
     "execution_count": 5,
     "metadata": {},
     "output_type": "execute_result"
    }
   ],
   "source": [
    "df.head()"
   ]
  },
  {
   "cell_type": "code",
   "execution_count": 6,
   "id": "26433b97",
   "metadata": {},
   "outputs": [
    {
     "data": {
      "text/plain": [
       "Index(['Country', 'Other names', 'ISO 3166-1 alpha-3 CODE', 'Population',\n",
       "       'Continent', 'Total Cases', 'Total Deaths',\n",
       "       'Total Cases//1M population', 'Total Deaths/1M population',\n",
       "       'Death percentage'],\n",
       "      dtype='object')"
      ]
     },
     "execution_count": 6,
     "metadata": {},
     "output_type": "execute_result"
    }
   ],
   "source": [
    "df.columns"
   ]
  },
  {
   "cell_type": "code",
   "execution_count": 7,
   "id": "c7c4a26c",
   "metadata": {},
   "outputs": [
    {
     "data": {
      "text/plain": [
       "(225, 10)"
      ]
     },
     "execution_count": 7,
     "metadata": {},
     "output_type": "execute_result"
    }
   ],
   "source": [
    "df.shape"
   ]
  },
  {
   "cell_type": "code",
   "execution_count": 8,
   "id": "c6f5c2c6",
   "metadata": {},
   "outputs": [
    {
     "name": "stdout",
     "output_type": "stream",
     "text": [
      "<class 'pandas.core.frame.DataFrame'>\n",
      "RangeIndex: 225 entries, 0 to 224\n",
      "Data columns (total 10 columns):\n",
      " #   Column                      Non-Null Count  Dtype  \n",
      "---  ------                      --------------  -----  \n",
      " 0   Country                     225 non-null    object \n",
      " 1   Other names                 224 non-null    object \n",
      " 2   ISO 3166-1 alpha-3 CODE     225 non-null    object \n",
      " 3   Population                  225 non-null    int64  \n",
      " 4   Continent                   225 non-null    object \n",
      " 5   Total Cases                 225 non-null    int64  \n",
      " 6   Total Deaths                225 non-null    int64  \n",
      " 7   Total Cases//1M population  225 non-null    int64  \n",
      " 8   Total Deaths/1M population  225 non-null    int64  \n",
      " 9   Death percentage            225 non-null    float64\n",
      "dtypes: float64(1), int64(5), object(4)\n",
      "memory usage: 17.7+ KB\n"
     ]
    }
   ],
   "source": [
    "df.info()"
   ]
  },
  {
   "cell_type": "code",
   "execution_count": 9,
   "id": "d14337b7",
   "metadata": {},
   "outputs": [
    {
     "data": {
      "text/html": [
       "<div>\n",
       "<style scoped>\n",
       "    .dataframe tbody tr th:only-of-type {\n",
       "        vertical-align: middle;\n",
       "    }\n",
       "\n",
       "    .dataframe tbody tr th {\n",
       "        vertical-align: top;\n",
       "    }\n",
       "\n",
       "    .dataframe thead th {\n",
       "        text-align: right;\n",
       "    }\n",
       "</style>\n",
       "<table border=\"1\" class=\"dataframe\">\n",
       "  <thead>\n",
       "    <tr style=\"text-align: right;\">\n",
       "      <th></th>\n",
       "      <th>Population</th>\n",
       "      <th>Total Cases</th>\n",
       "      <th>Total Deaths</th>\n",
       "      <th>Total Cases//1M population</th>\n",
       "      <th>Total Deaths/1M population</th>\n",
       "      <th>Death percentage</th>\n",
       "    </tr>\n",
       "  </thead>\n",
       "  <tbody>\n",
       "    <tr>\n",
       "      <th>count</th>\n",
       "      <td>2.250000e+02</td>\n",
       "      <td>2.250000e+02</td>\n",
       "      <td>2.250000e+02</td>\n",
       "      <td>225.000000</td>\n",
       "      <td>225.000000</td>\n",
       "      <td>225.000000</td>\n",
       "    </tr>\n",
       "    <tr>\n",
       "      <th>mean</th>\n",
       "      <td>3.507321e+07</td>\n",
       "      <td>2.184781e+06</td>\n",
       "      <td>2.744813e+04</td>\n",
       "      <td>136900.373333</td>\n",
       "      <td>1096.715556</td>\n",
       "      <td>1.444125</td>\n",
       "    </tr>\n",
       "    <tr>\n",
       "      <th>std</th>\n",
       "      <td>1.392418e+08</td>\n",
       "      <td>7.275938e+06</td>\n",
       "      <td>9.689177e+04</td>\n",
       "      <td>145060.340289</td>\n",
       "      <td>1195.715543</td>\n",
       "      <td>1.741728</td>\n",
       "    </tr>\n",
       "    <tr>\n",
       "      <th>min</th>\n",
       "      <td>8.050000e+02</td>\n",
       "      <td>1.000000e+00</td>\n",
       "      <td>0.000000e+00</td>\n",
       "      <td>9.000000</td>\n",
       "      <td>0.000000</td>\n",
       "      <td>0.000000</td>\n",
       "    </tr>\n",
       "    <tr>\n",
       "      <th>25%</th>\n",
       "      <td>5.665570e+05</td>\n",
       "      <td>2.407100e+04</td>\n",
       "      <td>1.890000e+02</td>\n",
       "      <td>11384.000000</td>\n",
       "      <td>123.000000</td>\n",
       "      <td>0.511291</td>\n",
       "    </tr>\n",
       "    <tr>\n",
       "      <th>50%</th>\n",
       "      <td>5.827911e+06</td>\n",
       "      <td>1.639360e+05</td>\n",
       "      <td>1.965000e+03</td>\n",
       "      <td>88987.000000</td>\n",
       "      <td>708.000000</td>\n",
       "      <td>1.036905</td>\n",
       "    </tr>\n",
       "    <tr>\n",
       "      <th>75%</th>\n",
       "      <td>2.190585e+07</td>\n",
       "      <td>1.092547e+06</td>\n",
       "      <td>1.366000e+04</td>\n",
       "      <td>223335.000000</td>\n",
       "      <td>1795.000000</td>\n",
       "      <td>1.977017</td>\n",
       "    </tr>\n",
       "    <tr>\n",
       "      <th>max</th>\n",
       "      <td>1.439324e+09</td>\n",
       "      <td>8.183905e+07</td>\n",
       "      <td>1.008222e+06</td>\n",
       "      <td>696044.000000</td>\n",
       "      <td>6286.000000</td>\n",
       "      <td>18.151787</td>\n",
       "    </tr>\n",
       "  </tbody>\n",
       "</table>\n",
       "</div>"
      ],
      "text/plain": [
       "         Population   Total Cases  Total Deaths  Total Cases//1M population  \\\n",
       "count  2.250000e+02  2.250000e+02  2.250000e+02                  225.000000   \n",
       "mean   3.507321e+07  2.184781e+06  2.744813e+04               136900.373333   \n",
       "std    1.392418e+08  7.275938e+06  9.689177e+04               145060.340289   \n",
       "min    8.050000e+02  1.000000e+00  0.000000e+00                    9.000000   \n",
       "25%    5.665570e+05  2.407100e+04  1.890000e+02                11384.000000   \n",
       "50%    5.827911e+06  1.639360e+05  1.965000e+03                88987.000000   \n",
       "75%    2.190585e+07  1.092547e+06  1.366000e+04               223335.000000   \n",
       "max    1.439324e+09  8.183905e+07  1.008222e+06               696044.000000   \n",
       "\n",
       "       Total Deaths/1M population  Death percentage  \n",
       "count                  225.000000        225.000000  \n",
       "mean                  1096.715556          1.444125  \n",
       "std                   1195.715543          1.741728  \n",
       "min                      0.000000          0.000000  \n",
       "25%                    123.000000          0.511291  \n",
       "50%                    708.000000          1.036905  \n",
       "75%                   1795.000000          1.977017  \n",
       "max                   6286.000000         18.151787  "
      ]
     },
     "execution_count": 9,
     "metadata": {},
     "output_type": "execute_result"
    }
   ],
   "source": [
    "df.describe()"
   ]
  },
  {
   "cell_type": "markdown",
   "id": "9f5b710a",
   "metadata": {},
   "source": [
    "# Exploratory Data Analysis"
   ]
  },
  {
   "cell_type": "code",
   "execution_count": 10,
   "id": "cfc8f7ea",
   "metadata": {},
   "outputs": [
    {
     "data": {
      "text/html": [
       "<div>\n",
       "<style scoped>\n",
       "    .dataframe tbody tr th:only-of-type {\n",
       "        vertical-align: middle;\n",
       "    }\n",
       "\n",
       "    .dataframe tbody tr th {\n",
       "        vertical-align: top;\n",
       "    }\n",
       "\n",
       "    .dataframe thead th {\n",
       "        text-align: right;\n",
       "    }\n",
       "</style>\n",
       "<table border=\"1\" class=\"dataframe\">\n",
       "  <thead>\n",
       "    <tr style=\"text-align: right;\">\n",
       "      <th></th>\n",
       "      <th>Country</th>\n",
       "    </tr>\n",
       "    <tr>\n",
       "      <th>Continent</th>\n",
       "      <th></th>\n",
       "    </tr>\n",
       "  </thead>\n",
       "  <tbody>\n",
       "    <tr>\n",
       "      <th>Africa</th>\n",
       "      <td>58</td>\n",
       "    </tr>\n",
       "    <tr>\n",
       "      <th>Asia</th>\n",
       "      <td>49</td>\n",
       "    </tr>\n",
       "    <tr>\n",
       "      <th>Europe</th>\n",
       "      <td>48</td>\n",
       "    </tr>\n",
       "    <tr>\n",
       "      <th>Latin America and the Caribbean</th>\n",
       "      <td>48</td>\n",
       "    </tr>\n",
       "    <tr>\n",
       "      <th>Northern America</th>\n",
       "      <td>5</td>\n",
       "    </tr>\n",
       "    <tr>\n",
       "      <th>Oceania</th>\n",
       "      <td>17</td>\n",
       "    </tr>\n",
       "  </tbody>\n",
       "</table>\n",
       "</div>"
      ],
      "text/plain": [
       "                                 Country\n",
       "Continent                               \n",
       "Africa                                58\n",
       "Asia                                  49\n",
       "Europe                                48\n",
       "Latin America and the Caribbean       48\n",
       "Northern America                       5\n",
       "Oceania                               17"
      ]
     },
     "execution_count": 10,
     "metadata": {},
     "output_type": "execute_result"
    }
   ],
   "source": [
    "# No.of countries impacted by covid continent-wise\n",
    "continents=df.groupby(['Continent']).agg({'Country':'count'})\n",
    "continents"
   ]
  },
  {
   "cell_type": "code",
   "execution_count": 11,
   "id": "e009a92d",
   "metadata": {},
   "outputs": [
    {
     "data": {
      "text/plain": [
       "Text(0, 0.5, 'No.of countries')"
      ]
     },
     "execution_count": 11,
     "metadata": {},
     "output_type": "execute_result"
    },
    {
     "data": {
      "image/png": "[encoded data removed]",
      "text/plain": [
       "<Figure size 432x288 with 1 Axes>"
      ]
     },
     "metadata": {
      "needs_background": "light"
     },
     "output_type": "display_data"
    }
   ],
   "source": [
    "sns.barplot(x='Continent' ,y='Country', data=continents)\n",
    "plt.xticks(rotation=90)\n",
    "plt.title('Countries impacted by Covid')\n",
    "plt.ylabel('No.of countries')"
   ]
  },
  {
   "cell_type": "markdown",
   "id": "2e38b955",
   "metadata": {},
   "source": [
    "This means countries from North America is not much impacted by covid then others. But from this we can understand that countries from Africa is highly impacted.  "
   ]
  },
  {
   "cell_type": "code",
   "execution_count": 12,
   "id": "c3671986",
   "metadata": {},
   "outputs": [
    {
     "data": {
      "text/html": [
       "<div>\n",
       "<style scoped>\n",
       "    .dataframe tbody tr th:only-of-type {\n",
       "        vertical-align: middle;\n",
       "    }\n",
       "\n",
       "    .dataframe tbody tr th {\n",
       "        vertical-align: top;\n",
       "    }\n",
       "\n",
       "    .dataframe thead th {\n",
       "        text-align: right;\n",
       "    }\n",
       "</style>\n",
       "<table border=\"1\" class=\"dataframe\">\n",
       "  <thead>\n",
       "    <tr style=\"text-align: right;\">\n",
       "      <th></th>\n",
       "      <th>Country</th>\n",
       "      <th>Total Cases</th>\n",
       "      <th>Total Deaths</th>\n",
       "    </tr>\n",
       "    <tr>\n",
       "      <th>Continent</th>\n",
       "      <th></th>\n",
       "      <th></th>\n",
       "      <th></th>\n",
       "    </tr>\n",
       "  </thead>\n",
       "  <tbody>\n",
       "    <tr>\n",
       "      <th>Africa</th>\n",
       "      <td>58</td>\n",
       "      <td>11764207</td>\n",
       "      <td>252873</td>\n",
       "    </tr>\n",
       "    <tr>\n",
       "      <th>Asia</th>\n",
       "      <td>49</td>\n",
       "      <td>140957179</td>\n",
       "      <td>1405003</td>\n",
       "    </tr>\n",
       "    <tr>\n",
       "      <th>Europe</th>\n",
       "      <td>48</td>\n",
       "      <td>180332483</td>\n",
       "      <td>1775727</td>\n",
       "    </tr>\n",
       "    <tr>\n",
       "      <th>Latin America and the Caribbean</th>\n",
       "      <td>48</td>\n",
       "      <td>67509231</td>\n",
       "      <td>1686828</td>\n",
       "    </tr>\n",
       "    <tr>\n",
       "      <th>Northern America</th>\n",
       "      <td>5</td>\n",
       "      <td>85364770</td>\n",
       "      <td>1046062</td>\n",
       "    </tr>\n",
       "    <tr>\n",
       "      <th>Oceania</th>\n",
       "      <td>17</td>\n",
       "      <td>5647957</td>\n",
       "      <td>9336</td>\n",
       "    </tr>\n",
       "  </tbody>\n",
       "</table>\n",
       "</div>"
      ],
      "text/plain": [
       "                                 Country  Total Cases  Total Deaths\n",
       "Continent                                                          \n",
       "Africa                                58     11764207        252873\n",
       "Asia                                  49    140957179       1405003\n",
       "Europe                                48    180332483       1775727\n",
       "Latin America and the Caribbean       48     67509231       1686828\n",
       "Northern America                       5     85364770       1046062\n",
       "Oceania                               17      5647957          9336"
      ]
     },
     "execution_count": 12,
     "metadata": {},
     "output_type": "execute_result"
    }
   ],
   "source": [
    "plot=df.groupby(['Continent']).agg({'Country':'count','Total Cases':'sum','Total Deaths':'sum'})\n",
    "plot"
   ]
  },
  {
   "cell_type": "code",
   "execution_count": 13,
   "id": "7f18b8e7",
   "metadata": {},
   "outputs": [
    {
     "data": {
      "text/plain": [
       "<Axes: xlabel='Total Deaths', ylabel='Total Cases'>"
      ]
     },
     "execution_count": 13,
     "metadata": {},
     "output_type": "execute_result"
    },
    {
     "data": {
      "image/png": "[encoded data removed]",
      "text/plain": [
       "<Figure size 432x288 with 1 Axes>"
      ]
     },
     "metadata": {
      "needs_background": "light"
     },
     "output_type": "display_data"
    }
   ],
   "source": [
    "sns.barplot(y='Total Cases',x='Total Deaths',hue='Continent',data=plot)"
   ]
  },
  {
   "cell_type": "code",
   "execution_count": 14,
   "id": "d3f1fd73",
   "metadata": {},
   "outputs": [
    {
     "data": {
      "image/png": "[encoded data removed]",
      "text/plain": [
       "<Figure size 432x288 with 1 Axes>"
      ]
     },
     "metadata": {},
     "output_type": "display_data"
    }
   ],
   "source": [
    "total=df[['Total Cases','Total Deaths']].agg({'Total Cases':'sum','Total Deaths':'sum'})\n",
    "plt.pie(total, labels=total.index, autopct='%1.1f%%')\n",
    "plt.title('Total Cases VS Total Deaths continent Wise')\n",
    "plt.show()"
   ]
  },
  {
   "cell_type": "markdown",
   "id": "076c8b83",
   "metadata": {},
   "source": [
    "Total death is very low when comparing to total cases that means Severity level is very low."
   ]
  },
  {
   "cell_type": "code",
   "execution_count": 15,
   "id": "6ac42087",
   "metadata": {
    "scrolled": true
   },
   "outputs": [
    {
     "data": {
      "image/png": "[encoded data removed]",
      "text/plain": [
       "<Figure size 432x288 with 1 Axes>"
      ]
     },
     "metadata": {},
     "output_type": "display_data"
    },
    {
     "data": {
      "image/png": "[encoded data removed]",
      "text/plain": [
       "<Figure size 432x288 with 1 Axes>"
      ]
     },
     "metadata": {},
     "output_type": "display_data"
    },
    {
     "data": {
      "image/png": "[encoded data removed]",
      "text/plain": [
       "<Figure size 432x288 with 1 Axes>"
      ]
     },
     "metadata": {},
     "output_type": "display_data"
    },
    {
     "data": {
      "image/png": "[encoded data removed]",
      "text/plain": [
       "<Figure size 432x288 with 1 Axes>"
      ]
     },
     "metadata": {},
     "output_type": "display_data"
    },
    {
     "data": {
      "image/png": "[encoded data removed]",
      "text/plain": [
       "<Figure size 432x288 with 1 Axes>"
      ]
     },
     "metadata": {},
     "output_type": "display_data"
    },
    {
     "data": {
      "image/png": "[encoded data removed]",
      "text/plain": [
       "<Figure size 432x288 with 1 Axes>"
      ]
     },
     "metadata": {},
     "output_type": "display_data"
    }
   ],
   "source": [
    "# comparing continent-wise total cases and total death\n",
    "\n",
    "for i in range(0,len(plot.index)):\n",
    "    plot_1=plot.iloc[i:i+1,].agg({'Total Cases':'sum','Total Deaths':'sum'})\n",
    "    explode = (0, 0.2) \n",
    "    plt.pie(plot_1, explode=explode, labels=plot_1.index, autopct='%1.2f%%')\n",
    "    plt.legend(title='Cases',loc='best')\n",
    "    ax=list(plot.index.values)\n",
    "    plt.title(f\"{plot.index[i]} Distribution\")\n",
    "    plt.axis('equal')\n",
    "    plt.show()\n"
   ]
  },
  {
   "cell_type": "markdown",
   "id": "3139573f",
   "metadata": {},
   "source": [
    "We can see from above charts that maximum deaths are from Latin America and the Caribbean "
   ]
  },
  {
   "cell_type": "code",
   "execution_count": 16,
   "id": "e714df1c",
   "metadata": {
    "scrolled": false
   },
   "outputs": [
    {
     "data": {
      "text/plain": [
       "Text(0.5, 1.0, 'Distribution of max cases from Countries from continents')"
      ]
     },
     "execution_count": 16,
     "metadata": {},
     "output_type": "execute_result"
    },
    {
     "data": {
      "image/png": "[encoded data removed]",
      "text/plain": [
       "<Figure size 720x360 with 1 Axes>"
      ]
     },
     "metadata": {
      "needs_background": "light"
     },
     "output_type": "display_data"
    }
   ],
   "source": [
    "plot_2=df.groupby(['Continent']).agg({'Total Cases':'max','Country':'max'})\n",
    "plot_2\n",
    "plt.subplots(figsize=(10, 5))\n",
    "sns.barplot(x='Country',y='Total Cases',data=plot_2,hue='Continent',err_kws={'linewidth': 2}\n",
    "           ).set_title('Distribution of max cases from Countries from continents')"
   ]
  },
  {
   "cell_type": "markdown",
   "id": "f3abe2b8",
   "metadata": {},
   "source": [
    "As we can say from above graph that USA from continent Africa has max. no. of Covid Cases"
   ]
  },
  {
   "cell_type": "markdown",
   "id": "fe7fe373",
   "metadata": {},
   "source": [
    "CONCLUSION:\n",
    "\n",
    "Coronavirus disease (COVID-19) is an infectious disease caused by the SARS-CoV-2 virus.\n",
    "\n",
    "Most people infected with the virus will experience mild to moderate respiratory illness and recover without requiring special treatment. However, some will become seriously ill and require medical attention. Older people and those with underlying medical conditions like cardiovascular disease, diabetes, chronic respiratory disease, or cancer are more likely to develop serious illness. Anyone can get sick with COVID-19 and become seriously ill or die at any age. \n",
    "\n",
    "The best way to prevent and slow down transmission is to be well informed about the disease and how the virus spreads. Protect yourself and others from infection by staying at least 1 metre apart from others, wearing a properly fitted mask, and washing your hands or using an alcohol-based rub frequently. Get vaccinated when it’s your turn and follow local guidance.\n",
    "\n",
    "The virus can spread from an infected person’s mouth or nose in small liquid particles when they cough, sneeze, speak, sing or breathe. These particles range from larger respiratory droplets to smaller aerosols. It is important to practice respiratory etiquette, for example by coughing into a flexed elbow, and to stay home and self-isolate until you recover if you feel unwell."
   ]
  },
  {
   "cell_type": "markdown",
   "id": "4f6302f3",
   "metadata": {},
   "source": [
    "For more information : https://www.who.int/emergencies/diseases/novel-coronavirus-2019"
   ]
  }
 ],
 "metadata": {
  "kernelspec": {
   "display_name": "Python 3 (ipykernel)",
   "language": "python",
   "name": "python3"
  },
  "language_info": {
   "codemirror_mode": {
    "name": "ipython",
    "version": 3
   },
   "file_extension": ".py",
   "mimetype": "text/x-python",
   "name": "python",
   "nbconvert_exporter": "python",
   "pygments_lexer": "ipython3",
   "version": "3.9.6"
  }
 },
 "nbformat": 4,
 "nbformat_minor": 5
}
